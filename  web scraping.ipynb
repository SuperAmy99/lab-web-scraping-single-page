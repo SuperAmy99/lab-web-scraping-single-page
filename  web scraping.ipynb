{
 "cells": [
  {
   "cell_type": "markdown",
   "id": "ea0827aa",
   "metadata": {},
   "source": [
    "## Retrieve an arbitrary Wikipedia page of \"Python\" and create a list of links on that page: url ='https://en.wikipedia.org/wiki/Python'"
   ]
  },
  {
   "cell_type": "code",
   "execution_count": 1,
   "id": "ee051572",
   "metadata": {},
   "outputs": [],
   "source": [
    "# 1. import libraries\n",
    "from bs4 import BeautifulSoup\n",
    "import requests\n",
    "import pandas as pd"
   ]
  },
  {
   "cell_type": "code",
   "execution_count": 2,
   "id": "c96e984e",
   "metadata": {},
   "outputs": [],
   "source": [
    "# 2. find url and store it in a variable\n",
    "url_python = \"https://en.wikipedia.org/wiki/Python\""
   ]
  },
  {
   "cell_type": "code",
   "execution_count": 3,
   "id": "d4539853",
   "metadata": {},
   "outputs": [
    {
     "data": {
      "text/plain": [
       "200"
      ]
     },
     "execution_count": 3,
     "metadata": {},
     "output_type": "execute_result"
    }
   ],
   "source": [
    "# 3. download html with a get request\n",
    "response = requests.get(url_python)\n",
    "response.status_code"
   ]
  },
  {
   "cell_type": "code",
   "execution_count": 4,
   "id": "baec2644",
   "metadata": {},
   "outputs": [],
   "source": [
    "# 4 parse html (create the 'soup')\n",
    "soup_python = BeautifulSoup(response.content, \"html.parser\")"
   ]
  },
  {
   "cell_type": "code",
   "execution_count": 5,
   "id": "82b85004",
   "metadata": {},
   "outputs": [],
   "source": [
    "# Find all links in the page\n",
    "links = soup_python.find_all('a', href=True)\n",
    "# links"
   ]
  },
  {
   "cell_type": "code",
   "execution_count": 6,
   "id": "12cd74f7",
   "metadata": {},
   "outputs": [],
   "source": [
    "# Extract the links\n",
    "link_urls = [link['href'] for link in links if link['href'].startswith('http')]\n",
    "# link_urls"
   ]
  },
  {
   "cell_type": "markdown",
   "id": "9da48edd",
   "metadata": {},
   "source": [
    "## Create a Python list with the top ten FBI's Most Wanted names: url = 'https://www.fbi.gov/wanted/topten'"
   ]
  },
  {
   "cell_type": "code",
   "execution_count": 7,
   "id": "4df8ae93",
   "metadata": {},
   "outputs": [],
   "source": [
    "url_fbi = 'https://www.fbi.gov/wanted/topten'"
   ]
  },
  {
   "cell_type": "code",
   "execution_count": 8,
   "id": "c8aba96b",
   "metadata": {},
   "outputs": [
    {
     "data": {
      "text/plain": [
       "403"
      ]
     },
     "execution_count": 8,
     "metadata": {},
     "output_type": "execute_result"
    }
   ],
   "source": [
    "response = requests.get(url_fbi)\n",
    "response.status_code"
   ]
  },
  {
   "cell_type": "code",
   "execution_count": 9,
   "id": "7314dd0d",
   "metadata": {},
   "outputs": [
    {
     "data": {
      "text/plain": [
       "200"
      ]
     },
     "execution_count": 9,
     "metadata": {},
     "output_type": "execute_result"
    }
   ],
   "source": [
    "headers = {\n",
    "    'User-Agent': 'Mozilla/5.0 (Windows NT 10.0; Win64; x64) AppleWebKit/537.36 (KHTML, like Gecko) Chrome/58.0.3029.110 Safari/537.3'}\n",
    "response = requests.get(url_fbi, headers=headers)\n",
    "response.status_code"
   ]
  },
  {
   "cell_type": "code",
   "execution_count": 10,
   "id": "68515612",
   "metadata": {},
   "outputs": [],
   "source": [
    "soup_fbi = BeautifulSoup(response.content, \"html.parser\")"
   ]
  },
  {
   "cell_type": "code",
   "execution_count": 11,
   "id": "d617d12e",
   "metadata": {},
   "outputs": [],
   "source": [
    "#solution 1 \n",
    "names = soup_fbi.find_all('h3', class_ = 'title')\n",
    "# names"
   ]
  },
  {
   "cell_type": "code",
   "execution_count": 12,
   "id": "6766fa8c",
   "metadata": {},
   "outputs": [],
   "source": [
    "name = soup_fbi.select('#query-results-0f737222c5054a81a120bce207b0446a > ul > li > h3 > a')"
   ]
  },
  {
   "cell_type": "code",
   "execution_count": 13,
   "id": "5fdea1ed",
   "metadata": {},
   "outputs": [],
   "source": [
    "wanted_list = []\n",
    "for i in names:\n",
    "    wanted_list.append(i.text.strip())"
   ]
  },
  {
   "cell_type": "code",
   "execution_count": 14,
   "id": "2262d210",
   "metadata": {},
   "outputs": [
    {
     "data": {
      "text/plain": [
       "['WILVER VILLEGAS-PALOMINO',\n",
       " \"VITEL'HOMME INNOCENT\",\n",
       " 'ALEJANDRO ROSALES CASTILLO',\n",
       " 'ALEXIS FLORES',\n",
       " 'ARNOLDO JIMENEZ',\n",
       " 'OMAR ALEXANDER CARDENAS',\n",
       " 'YULAN ADONAY ARCHAGA CARIAS',\n",
       " 'BHADRESHKUMAR CHETANBHAI PATEL',\n",
       " 'DONALD EUGENE FIELDS II',\n",
       " 'RUJA IGNATOVA']"
      ]
     },
     "execution_count": 14,
     "metadata": {},
     "output_type": "execute_result"
    }
   ],
   "source": [
    "wanted_list"
   ]
  },
  {
   "cell_type": "markdown",
   "id": "abe2aaad",
   "metadata": {},
   "source": [
    "## A list with the different kind of datasets available in data.gov.uk: url = 'https://data.gov.uk/'"
   ]
  },
  {
   "cell_type": "code",
   "execution_count": 15,
   "id": "2429692b",
   "metadata": {},
   "outputs": [],
   "source": [
    "url_uk = 'https://data.gov.uk/'"
   ]
  },
  {
   "cell_type": "code",
   "execution_count": 16,
   "id": "bf72a83d",
   "metadata": {},
   "outputs": [
    {
     "data": {
      "text/plain": [
       "200"
      ]
     },
     "execution_count": 16,
     "metadata": {},
     "output_type": "execute_result"
    }
   ],
   "source": [
    "response = requests.get(url_uk)\n",
    "response.status_code"
   ]
  },
  {
   "cell_type": "code",
   "execution_count": 17,
   "id": "a0a6c128",
   "metadata": {},
   "outputs": [],
   "source": [
    "soup_uk = BeautifulSoup(response.content, \"html.parser\")"
   ]
  },
  {
   "cell_type": "code",
   "execution_count": 18,
   "id": "32083260",
   "metadata": {},
   "outputs": [],
   "source": [
    "# soup_uk"
   ]
  },
  {
   "cell_type": "code",
   "execution_count": 19,
   "id": "dde6b159",
   "metadata": {},
   "outputs": [],
   "source": [
    "types = soup_uk.select('#main-content > div:nth-child(3) > div > ul > li > h3')\n",
    "# types"
   ]
  },
  {
   "cell_type": "code",
   "execution_count": 20,
   "id": "de104f82",
   "metadata": {},
   "outputs": [],
   "source": [
    "data_type = []\n",
    "for t in types:\n",
    "    data_type.append(t.text.strip())"
   ]
  },
  {
   "cell_type": "code",
   "execution_count": 21,
   "id": "2a9b4e5e",
   "metadata": {},
   "outputs": [
    {
     "data": {
      "text/plain": [
       "['Business and economy',\n",
       " 'Crime and justice',\n",
       " 'Defence',\n",
       " 'Education',\n",
       " 'Environment',\n",
       " 'Government',\n",
       " 'Government spending',\n",
       " 'Health',\n",
       " 'Mapping',\n",
       " 'Society',\n",
       " 'Towns and cities',\n",
       " 'Transport',\n",
       " 'Digital service performance',\n",
       " 'Government reference data']"
      ]
     },
     "execution_count": 21,
     "metadata": {},
     "output_type": "execute_result"
    }
   ],
   "source": [
    "data_type"
   ]
  },
  {
   "cell_type": "markdown",
   "id": "66be1725",
   "metadata": {},
   "source": [
    "## Display the top 10 languages by number of native speakers stored in a pandas dataframe: url = 'https://en.wikipedia.org/wiki/List_of_languages_by_number_of_native_speakers'"
   ]
  },
  {
   "cell_type": "code",
   "execution_count": 22,
   "id": "2db856a8",
   "metadata": {},
   "outputs": [],
   "source": [
    "url_language = 'https://en.wikipedia.org/wiki/List_of_languages_by_number_of_native_speakers'"
   ]
  },
  {
   "cell_type": "code",
   "execution_count": 23,
   "id": "44c8faa3",
   "metadata": {},
   "outputs": [
    {
     "data": {
      "text/plain": [
       "200"
      ]
     },
     "execution_count": 23,
     "metadata": {},
     "output_type": "execute_result"
    }
   ],
   "source": [
    "response = requests.get(url_language)\n",
    "response.status_code"
   ]
  },
  {
   "cell_type": "code",
   "execution_count": 24,
   "id": "5b3eef47",
   "metadata": {},
   "outputs": [],
   "source": [
    "soup_lag = BeautifulSoup(response.content, \"html.parser\")"
   ]
  },
  {
   "cell_type": "code",
   "execution_count": 25,
   "id": "ca6bb633",
   "metadata": {},
   "outputs": [],
   "source": [
    "# find the tables that we need\n",
    "table = soup_lag.find('table', {'class': 'wikitable'}) # first table of the page\n",
    "\n",
    "rows = table.find_all(\"tr\") # select all the rows"
   ]
  },
  {
   "cell_type": "code",
   "execution_count": 26,
   "id": "eb57146e",
   "metadata": {},
   "outputs": [
    {
     "data": {
      "text/html": [
       "<div>\n",
       "<style scoped>\n",
       "    .dataframe tbody tr th:only-of-type {\n",
       "        vertical-align: middle;\n",
       "    }\n",
       "\n",
       "    .dataframe tbody tr th {\n",
       "        vertical-align: top;\n",
       "    }\n",
       "\n",
       "    .dataframe thead th {\n",
       "        text-align: right;\n",
       "    }\n",
       "</style>\n",
       "<table border=\"1\" class=\"dataframe\">\n",
       "  <thead>\n",
       "    <tr style=\"text-align: right;\">\n",
       "      <th></th>\n",
       "      <th>Language</th>\n",
       "      <th>Native Speakers</th>\n",
       "    </tr>\n",
       "  </thead>\n",
       "  <tbody>\n",
       "    <tr>\n",
       "      <th>0</th>\n",
       "      <td>Mandarin Chinese</td>\n",
       "      <td>939</td>\n",
       "    </tr>\n",
       "    <tr>\n",
       "      <th>1</th>\n",
       "      <td>Spanish</td>\n",
       "      <td>485</td>\n",
       "    </tr>\n",
       "    <tr>\n",
       "      <th>2</th>\n",
       "      <td>English</td>\n",
       "      <td>380</td>\n",
       "    </tr>\n",
       "    <tr>\n",
       "      <th>3</th>\n",
       "      <td>Hindi</td>\n",
       "      <td>345</td>\n",
       "    </tr>\n",
       "    <tr>\n",
       "      <th>4</th>\n",
       "      <td>Portuguese</td>\n",
       "      <td>236</td>\n",
       "    </tr>\n",
       "    <tr>\n",
       "      <th>5</th>\n",
       "      <td>Bengali</td>\n",
       "      <td>234</td>\n",
       "    </tr>\n",
       "    <tr>\n",
       "      <th>6</th>\n",
       "      <td>Russian</td>\n",
       "      <td>147</td>\n",
       "    </tr>\n",
       "    <tr>\n",
       "      <th>7</th>\n",
       "      <td>Japanese</td>\n",
       "      <td>123</td>\n",
       "    </tr>\n",
       "    <tr>\n",
       "      <th>8</th>\n",
       "      <td>Yue Chinese</td>\n",
       "      <td>86.1</td>\n",
       "    </tr>\n",
       "    <tr>\n",
       "      <th>9</th>\n",
       "      <td>Vietnamese</td>\n",
       "      <td>85.0</td>\n",
       "    </tr>\n",
       "  </tbody>\n",
       "</table>\n",
       "</div>"
      ],
      "text/plain": [
       "           Language Native Speakers\n",
       "0  Mandarin Chinese             939\n",
       "1           Spanish             485\n",
       "2           English             380\n",
       "3             Hindi             345\n",
       "4        Portuguese             236\n",
       "5           Bengali             234\n",
       "6           Russian             147\n",
       "7          Japanese             123\n",
       "8       Yue Chinese            86.1\n",
       "9        Vietnamese            85.0"
      ]
     },
     "execution_count": 26,
     "metadata": {},
     "output_type": "execute_result"
    }
   ],
   "source": [
    "data = []\n",
    "\n",
    "for row in rows[1:11]:  # Skip the header row and get the next 10 rows\n",
    "    cols = row.find_all('td')\n",
    "    if cols:  # This check ensures that there are enough columns in the row\n",
    "        language = cols[0].text.strip()\n",
    "        speakers = cols[1].text.strip().replace(',', '')  # Remove commas from numbers\n",
    "        data.append((language, speakers))\n",
    "\n",
    "df = pd.DataFrame(data,columns=[\"Language\",\"Native Speakers\"])\n",
    "df\n",
    "\n"
   ]
  }
 ],
 "metadata": {
  "kernelspec": {
   "display_name": "Python 3 (ipykernel)",
   "language": "python",
   "name": "python3"
  },
  "language_info": {
   "codemirror_mode": {
    "name": "ipython",
    "version": 3
   },
   "file_extension": ".py",
   "mimetype": "text/x-python",
   "name": "python",
   "nbconvert_exporter": "python",
   "pygments_lexer": "ipython3",
   "version": "3.11.4"
  }
 },
 "nbformat": 4,
 "nbformat_minor": 5
}
