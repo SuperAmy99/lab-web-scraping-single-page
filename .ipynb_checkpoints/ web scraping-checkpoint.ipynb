{
 "cells": [
  {
   "cell_type": "markdown",
   "id": "97b79799",
   "metadata": {},
   "source": [
    "## Retrieve an arbitrary Wikipedia page of \"Python\" and create a list of links on that page: url ='https://en.wikipedia.org/wiki/Python'"
   ]
  },
  {
   "cell_type": "code",
   "execution_count": 1,
   "id": "f3ec5eea",
   "metadata": {},
   "outputs": [],
   "source": [
    "# 1. import libraries\n",
    "from bs4 import BeautifulSoup\n",
    "import requests\n",
    "import pandas as pd"
   ]
  },
  {
   "cell_type": "code",
   "execution_count": 2,
   "id": "722adef8",
   "metadata": {},
   "outputs": [],
   "source": [
    "# 2. find url and store it in a variable\n",
    "url_python = \"https://en.wikipedia.org/wiki/Python\""
   ]
  },
  {
   "cell_type": "code",
   "execution_count": 3,
   "id": "819f3b51",
   "metadata": {},
   "outputs": [
    {
     "data": {
      "text/plain": [
       "200"
      ]
     },
     "execution_count": 3,
     "metadata": {},
     "output_type": "execute_result"
    }
   ],
   "source": [
    "# 3. download html with a get request\n",
    "response = requests.get(url_python)\n",
    "response.status_code"
   ]
  },
  {
   "cell_type": "code",
   "execution_count": 4,
   "id": "a885bde0",
   "metadata": {},
   "outputs": [],
   "source": [
    "# 4 parse html (create the 'soup')\n",
    "soup_python = BeautifulSoup(response.content, \"html.parser\")"
   ]
  },
  {
   "cell_type": "code",
   "execution_count": 5,
   "id": "d4f788da",
   "metadata": {},
   "outputs": [
    {
     "data": {
      "text/plain": [
       "[<a class=\"mw-jump-link\" href=\"#bodyContent\">Jump to content</a>,\n",
       " <a accesskey=\"z\" href=\"/wiki/Main_Page\" title=\"Visit the main page [z]\"><span>Main page</span></a>,\n",
       " <a href=\"/wiki/Wikipedia:Contents\" title=\"Guides to browsing Wikipedia\"><span>Contents</span></a>,\n",
       " <a href=\"/wiki/Portal:Current_events\" title=\"Articles related to current events\"><span>Current events</span></a>,\n",
       " <a accesskey=\"x\" href=\"/wiki/Special:Random\" title=\"Visit a randomly selected article [x]\"><span>Random article</span></a>,\n",
       " <a href=\"/wiki/Wikipedia:About\" title=\"Learn about Wikipedia and how it works\"><span>About Wikipedia</span></a>,\n",
       " <a href=\"//en.wikipedia.org/wiki/Wikipedia:Contact_us\" title=\"How to contact Wikipedia\"><span>Contact us</span></a>,\n",
       " <a href=\"https://donate.wikimedia.org/wiki/Special:FundraiserRedirector?utm_source=donate&amp;utm_medium=sidebar&amp;utm_campaign=C13_en.wikipedia.org&amp;uselang=en\" title=\"Support us by donating to the Wikimedia Foundation\"><span>Donate</span></a>,\n",
       " <a href=\"/wiki/Help:Contents\" title=\"Guidance on how to use and edit Wikipedia\"><span>Help</span></a>,\n",
       " <a href=\"/wiki/Help:Introduction\" title=\"Learn how to edit Wikipedia\"><span>Learn to edit</span></a>,\n",
       " <a href=\"/wiki/Wikipedia:Community_portal\" title=\"The hub for editors\"><span>Community portal</span></a>,\n",
       " <a accesskey=\"r\" href=\"/wiki/Special:RecentChanges\" title=\"A list of recent changes to Wikipedia [r]\"><span>Recent changes</span></a>,\n",
       " <a href=\"/wiki/Wikipedia:File_upload_wizard\" title=\"Add images or other media for use on Wikipedia\"><span>Upload file</span></a>,\n",
       " <a class=\"mw-logo\" href=\"/wiki/Main_Page\">\n",
       " <img alt=\"\" aria-hidden=\"true\" class=\"mw-logo-icon\" height=\"50\" src=\"/static/images/icons/wikipedia.png\" width=\"50\"/>\n",
       " <span class=\"mw-logo-container\">\n",
       " <img alt=\"Wikipedia\" class=\"mw-logo-wordmark\" src=\"/static/images/mobile/copyright/wikipedia-wordmark-en.svg\" style=\"width: 7.5em; height: 1.125em;\"/>\n",
       " <img alt=\"The Free Encyclopedia\" class=\"mw-logo-tagline\" height=\"13\" src=\"/static/images/mobile/copyright/wikipedia-tagline-en.svg\" style=\"width: 7.3125em; height: 0.8125em;\" width=\"117\"/>\n",
       " </span>\n",
       " </a>,\n",
       " <a accesskey=\"f\" class=\"cdx-button cdx-button--fake-button cdx-button--fake-button--enabled cdx-button--weight-quiet cdx-button--icon-only search-toggle\" href=\"/wiki/Special:Search\" id=\"\" title=\"Search Wikipedia [f]\"><span class=\"vector-icon mw-ui-icon-search mw-ui-icon-wikimedia-search\"></span>\n",
       " <span>Search</span>\n",
       " </a>,\n",
       " <a class=\"\" data-mw=\"interface\" href=\"/w/index.php?title=Special:CreateAccount&amp;returnto=Python\" title=\"You are encouraged to create an account and log in; however, it is not mandatory\"><span>Create account</span></a>,\n",
       " <a accesskey=\"o\" class=\"\" data-mw=\"interface\" href=\"/w/index.php?title=Special:UserLogin&amp;returnto=Python\" title=\"You're encouraged to log in; however, it's not mandatory. [o]\"><span>Log in</span></a>,\n",
       " <a href=\"/w/index.php?title=Special:CreateAccount&amp;returnto=Python\" title=\"You are encouraged to create an account and log in; however, it is not mandatory\"><span class=\"vector-icon mw-ui-icon-userAdd mw-ui-icon-wikimedia-userAdd\"></span> <span>Create account</span></a>,\n",
       " <a accesskey=\"o\" href=\"/w/index.php?title=Special:UserLogin&amp;returnto=Python\" title=\"You're encouraged to log in; however, it's not mandatory. [o]\"><span class=\"vector-icon mw-ui-icon-logIn mw-ui-icon-wikimedia-logIn\"></span> <span>Log in</span></a>,\n",
       " <a aria-label=\"Learn more about editing\" href=\"/wiki/Help:Introduction\"><span>learn more</span></a>,\n",
       " <a accesskey=\"y\" href=\"/wiki/Special:MyContributions\" title=\"A list of edits made from this IP address [y]\"><span>Contributions</span></a>,\n",
       " <a accesskey=\"n\" href=\"/wiki/Special:MyTalk\" title=\"Discussion about edits from this IP address [n]\"><span>Talk</span></a>,\n",
       " <a class=\"vector-toc-link\" href=\"#\">\n",
       " <div class=\"vector-toc-text\">(Top)</div>\n",
       " </a>,\n",
       " <a class=\"vector-toc-link\" href=\"#Snakes\">\n",
       " <div class=\"vector-toc-text\">\n",
       " <span class=\"vector-toc-numb\">1</span>Snakes</div>\n",
       " </a>,\n",
       " <a class=\"vector-toc-link\" href=\"#Computing\">\n",
       " <div class=\"vector-toc-text\">\n",
       " <span class=\"vector-toc-numb\">2</span>Computing</div>\n",
       " </a>,\n",
       " <a class=\"vector-toc-link\" href=\"#People\">\n",
       " <div class=\"vector-toc-text\">\n",
       " <span class=\"vector-toc-numb\">3</span>People</div>\n",
       " </a>,\n",
       " <a class=\"vector-toc-link\" href=\"#Roller_coasters\">\n",
       " <div class=\"vector-toc-text\">\n",
       " <span class=\"vector-toc-numb\">4</span>Roller coasters</div>\n",
       " </a>,\n",
       " <a class=\"vector-toc-link\" href=\"#Vehicles\">\n",
       " <div class=\"vector-toc-text\">\n",
       " <span class=\"vector-toc-numb\">5</span>Vehicles</div>\n",
       " </a>,\n",
       " <a class=\"vector-toc-link\" href=\"#Weaponry\">\n",
       " <div class=\"vector-toc-text\">\n",
       " <span class=\"vector-toc-numb\">6</span>Weaponry</div>\n",
       " </a>,\n",
       " <a class=\"vector-toc-link\" href=\"#Other_uses\">\n",
       " <div class=\"vector-toc-text\">\n",
       " <span class=\"vector-toc-numb\">7</span>Other uses</div>\n",
       " </a>,\n",
       " <a class=\"vector-toc-link\" href=\"#See_also\">\n",
       " <div class=\"vector-toc-text\">\n",
       " <span class=\"vector-toc-numb\">8</span>See also</div>\n",
       " </a>,\n",
       " <a class=\"interlanguage-link-target\" href=\"https://af.wikipedia.org/wiki/Python\" hreflang=\"af\" lang=\"af\" title=\"Python – Afrikaans\"><span>Afrikaans</span></a>,\n",
       " <a class=\"interlanguage-link-target\" href=\"https://als.wikipedia.org/wiki/Python\" hreflang=\"gsw\" lang=\"gsw\" title=\"Python – Alemannic\"><span>Alemannisch</span></a>,\n",
       " <a class=\"interlanguage-link-target\" href=\"https://ar.wikipedia.org/wiki/%D8%A8%D8%A7%D9%8A%D8%AB%D9%88%D9%86_(%D8%AA%D9%88%D8%B6%D9%8A%D8%AD)\" hreflang=\"ar\" lang=\"ar\" title=\"بايثون (توضيح) – Arabic\"><span>العربية</span></a>,\n",
       " <a class=\"interlanguage-link-target\" href=\"https://az.wikipedia.org/wiki/Python_(d%C9%99qiql%C9%99%C5%9Fdirm%C9%99)\" hreflang=\"az\" lang=\"az\" title=\"Python (dəqiqləşdirmə) – Azerbaijani\"><span>Azərbaycanca</span></a>,\n",
       " <a class=\"interlanguage-link-target\" href=\"https://bn.wikipedia.org/wiki/%E0%A6%AA%E0%A6%BE%E0%A6%87%E0%A6%A5%E0%A6%A8_(%E0%A6%A6%E0%A7%8D%E0%A6%AC%E0%A7%8D%E0%A6%AF%E0%A6%B0%E0%A7%8D%E0%A6%A5%E0%A6%A4%E0%A6%BE_%E0%A6%A8%E0%A6%BF%E0%A6%B0%E0%A6%B8%E0%A6%A8)\" hreflang=\"bn\" lang=\"bn\" title=\"পাইথন (দ্ব্যর্থতা নিরসন) – Bangla\"><span>বাংলা</span></a>,\n",
       " <a class=\"interlanguage-link-target\" href=\"https://be.wikipedia.org/wiki/Python\" hreflang=\"be\" lang=\"be\" title=\"Python – Belarusian\"><span>Беларуская</span></a>,\n",
       " <a class=\"interlanguage-link-target\" href=\"https://bg.wikipedia.org/wiki/%D0%9F%D0%B8%D1%82%D0%BE%D0%BD_(%D0%BF%D0%BE%D1%8F%D1%81%D0%BD%D0%B5%D0%BD%D0%B8%D0%B5)\" hreflang=\"bg\" lang=\"bg\" title=\"Питон (пояснение) – Bulgarian\"><span>Български</span></a>,\n",
       " <a class=\"interlanguage-link-target\" href=\"https://cs.wikipedia.org/wiki/Python_(rozcestn%C3%ADk)\" hreflang=\"cs\" lang=\"cs\" title=\"Python (rozcestník) – Czech\"><span>Čeština</span></a>,\n",
       " <a class=\"interlanguage-link-target\" href=\"https://da.wikipedia.org/wiki/Python\" hreflang=\"da\" lang=\"da\" title=\"Python – Danish\"><span>Dansk</span></a>,\n",
       " <a class=\"interlanguage-link-target\" href=\"https://de.wikipedia.org/wiki/Python\" hreflang=\"de\" lang=\"de\" title=\"Python – German\"><span>Deutsch</span></a>,\n",
       " <a class=\"interlanguage-link-target\" href=\"https://eo.wikipedia.org/wiki/Pitono_(apartigilo)\" hreflang=\"eo\" lang=\"eo\" title=\"Pitono (apartigilo) – Esperanto\"><span>Esperanto</span></a>,\n",
       " <a class=\"interlanguage-link-target\" href=\"https://eu.wikipedia.org/wiki/Python_(argipena)\" hreflang=\"eu\" lang=\"eu\" title=\"Python (argipena) – Basque\"><span>Euskara</span></a>,\n",
       " <a class=\"interlanguage-link-target\" href=\"https://fa.wikipedia.org/wiki/%D9%BE%D8%A7%DB%8C%D8%AA%D9%88%D9%86\" hreflang=\"fa\" lang=\"fa\" title=\"پایتون – Persian\"><span>فارسی</span></a>,\n",
       " <a class=\"interlanguage-link-target\" href=\"https://fr.wikipedia.org/wiki/Python\" hreflang=\"fr\" lang=\"fr\" title=\"Python – French\"><span>Français</span></a>,\n",
       " <a class=\"interlanguage-link-target\" href=\"https://ko.wikipedia.org/wiki/%ED%8C%8C%EC%9D%B4%EC%84%A0\" hreflang=\"ko\" lang=\"ko\" title=\"파이선 – Korean\"><span>한국어</span></a>,\n",
       " <a class=\"interlanguage-link-target\" href=\"https://hr.wikipedia.org/wiki/Python_(razdvojba)\" hreflang=\"hr\" lang=\"hr\" title=\"Python (razdvojba) – Croatian\"><span>Hrvatski</span></a>,\n",
       " <a class=\"interlanguage-link-target\" href=\"https://io.wikipedia.org/wiki/Pitono\" hreflang=\"io\" lang=\"io\" title=\"Pitono – Ido\"><span>Ido</span></a>,\n",
       " <a class=\"interlanguage-link-target\" href=\"https://id.wikipedia.org/wiki/Python\" hreflang=\"id\" lang=\"id\" title=\"Python – Indonesian\"><span>Bahasa Indonesia</span></a>,\n",
       " <a class=\"interlanguage-link-target\" href=\"https://ia.wikipedia.org/wiki/Python_(disambiguation)\" hreflang=\"ia\" lang=\"ia\" title=\"Python (disambiguation) – Interlingua\"><span>Interlingua</span></a>,\n",
       " <a class=\"interlanguage-link-target\" href=\"https://is.wikipedia.org/wiki/Python_(a%C3%B0greining)\" hreflang=\"is\" lang=\"is\" title=\"Python (aðgreining) – Icelandic\"><span>Íslenska</span></a>,\n",
       " <a class=\"interlanguage-link-target\" href=\"https://it.wikipedia.org/wiki/Python_(disambigua)\" hreflang=\"it\" lang=\"it\" title=\"Python (disambigua) – Italian\"><span>Italiano</span></a>,\n",
       " <a class=\"interlanguage-link-target\" href=\"https://he.wikipedia.org/wiki/%D7%A4%D7%99%D7%AA%D7%95%D7%9F\" hreflang=\"he\" lang=\"he\" title=\"פיתון – Hebrew\"><span>עברית</span></a>,\n",
       " <a class=\"interlanguage-link-target\" href=\"https://ka.wikipedia.org/wiki/%E1%83%9E%E1%83%98%E1%83%97%E1%83%9D%E1%83%9C%E1%83%98_(%E1%83%9B%E1%83%A0%E1%83%90%E1%83%95%E1%83%90%E1%83%9A%E1%83%9B%E1%83%9C%E1%83%98%E1%83%A8%E1%83%95%E1%83%9C%E1%83%94%E1%83%9A%E1%83%9D%E1%83%95%E1%83%90%E1%83%9C%E1%83%98)\" hreflang=\"ka\" lang=\"ka\" title=\"პითონი (მრავალმნიშვნელოვანი) – Georgian\"><span>ქართული</span></a>,\n",
       " <a class=\"interlanguage-link-target\" href=\"https://kg.wikipedia.org/wiki/Mboma_(nyoka)\" hreflang=\"kg\" lang=\"kg\" title=\"Mboma (nyoka) – Kongo\"><span>Kongo</span></a>,\n",
       " <a class=\"interlanguage-link-target\" href=\"https://la.wikipedia.org/wiki/Python_(discretiva)\" hreflang=\"la\" lang=\"la\" title=\"Python (discretiva) – Latin\"><span>Latina</span></a>,\n",
       " <a class=\"interlanguage-link-target\" href=\"https://lb.wikipedia.org/wiki/Python\" hreflang=\"lb\" lang=\"lb\" title=\"Python – Luxembourgish\"><span>Lëtzebuergesch</span></a>,\n",
       " <a class=\"interlanguage-link-target\" href=\"https://hu.wikipedia.org/wiki/Python_(egy%C3%A9rtelm%C5%B1s%C3%ADt%C5%91_lap)\" hreflang=\"hu\" lang=\"hu\" title=\"Python (egyértelműsítő lap) – Hungarian\"><span>Magyar</span></a>,\n",
       " <a class=\"interlanguage-link-target\" href=\"https://mr.wikipedia.org/wiki/%E0%A4%AA%E0%A4%BE%E0%A4%AF%E0%A4%A5%E0%A5%89%E0%A4%A8_(%E0%A4%86%E0%A4%9C%E0%A5%8D%E0%A4%9E%E0%A4%BE%E0%A4%B5%E0%A4%B2%E0%A5%80_%E0%A4%AD%E0%A4%BE%E0%A4%B7%E0%A4%BE)\" hreflang=\"mr\" lang=\"mr\" title=\"पायथॉन (आज्ञावली भाषा) – Marathi\"><span>मराठी</span></a>,\n",
       " <a class=\"interlanguage-link-target\" href=\"https://nl.wikipedia.org/wiki/Python\" hreflang=\"nl\" lang=\"nl\" title=\"Python – Dutch\"><span>Nederlands</span></a>,\n",
       " <a class=\"interlanguage-link-target\" href=\"https://ja.wikipedia.org/wiki/%E3%83%91%E3%82%A4%E3%82%BD%E3%83%B3\" hreflang=\"ja\" lang=\"ja\" title=\"パイソン – Japanese\"><span>日本語</span></a>,\n",
       " <a class=\"interlanguage-link-target\" href=\"https://no.wikipedia.org/wiki/Pyton\" hreflang=\"nb\" lang=\"nb\" title=\"Pyton – Norwegian Bokmål\"><span>Norsk bokmål</span></a>,\n",
       " <a class=\"interlanguage-link-target\" href=\"https://pl.wikipedia.org/wiki/Pyton\" hreflang=\"pl\" lang=\"pl\" title=\"Pyton – Polish\"><span>Polski</span></a>,\n",
       " <a class=\"interlanguage-link-target\" href=\"https://pt.wikipedia.org/wiki/Python_(desambigua%C3%A7%C3%A3o)\" hreflang=\"pt\" lang=\"pt\" title=\"Python (desambiguação) – Portuguese\"><span>Português</span></a>,\n",
       " <a class=\"interlanguage-link-target\" href=\"https://ru.wikipedia.org/wiki/Python_(%D0%B7%D0%BD%D0%B0%D1%87%D0%B5%D0%BD%D0%B8%D1%8F)\" hreflang=\"ru\" lang=\"ru\" title=\"Python (значения) – Russian\"><span>Русский</span></a>,\n",
       " <a class=\"interlanguage-link-target\" href=\"https://sk.wikipedia.org/wiki/Python\" hreflang=\"sk\" lang=\"sk\" title=\"Python – Slovak\"><span>Slovenčina</span></a>,\n",
       " <a class=\"interlanguage-link-target\" href=\"https://sr.wikipedia.org/wiki/%D0%9F%D0%B8%D1%82%D0%BE%D0%BD_(%D0%B2%D0%B8%D1%88%D0%B5%D0%B7%D0%BD%D0%B0%D1%87%D0%BD%D0%B0_%D0%BE%D0%B4%D1%80%D0%B5%D0%B4%D0%BD%D0%B8%D1%86%D0%B0)\" hreflang=\"sr\" lang=\"sr\" title=\"Питон (вишезначна одредница) – Serbian\"><span>Српски / srpski</span></a>,\n",
       " <a class=\"interlanguage-link-target\" href=\"https://sh.wikipedia.org/wiki/Python\" hreflang=\"sh\" lang=\"sh\" title=\"Python – Serbo-Croatian\"><span>Srpskohrvatski / српскохрватски</span></a>,\n",
       " <a class=\"interlanguage-link-target\" href=\"https://fi.wikipedia.org/wiki/Python\" hreflang=\"fi\" lang=\"fi\" title=\"Python – Finnish\"><span>Suomi</span></a>,\n",
       " <a class=\"interlanguage-link-target\" href=\"https://sv.wikipedia.org/wiki/Pyton\" hreflang=\"sv\" lang=\"sv\" title=\"Pyton – Swedish\"><span>Svenska</span></a>,\n",
       " <a class=\"interlanguage-link-target\" href=\"https://th.wikipedia.org/wiki/%E0%B9%84%E0%B8%9E%E0%B8%97%E0%B8%AD%E0%B8%99\" hreflang=\"th\" lang=\"th\" title=\"ไพทอน – Thai\"><span>ไทย</span></a>,\n",
       " <a class=\"interlanguage-link-target\" href=\"https://tr.wikipedia.org/wiki/Python_(anlam_ayr%C4%B1m%C4%B1)\" hreflang=\"tr\" lang=\"tr\" title=\"Python (anlam ayrımı) – Turkish\"><span>Türkçe</span></a>,\n",
       " <a class=\"interlanguage-link-target\" href=\"https://uk.wikipedia.org/wiki/%D0%9F%D1%96%D1%84%D0%BE%D0%BD\" hreflang=\"uk\" lang=\"uk\" title=\"Піфон – Ukrainian\"><span>Українська</span></a>,\n",
       " <a class=\"interlanguage-link-target\" href=\"https://ur.wikipedia.org/wiki/%D9%BE%D8%A7%D8%A6%DB%8C%D8%AA%DA%BE%D9%88%D9%86\" hreflang=\"ur\" lang=\"ur\" title=\"پائیتھون – Urdu\"><span>اردو</span></a>,\n",
       " <a class=\"interlanguage-link-target\" href=\"https://vi.wikipedia.org/wiki/Python\" hreflang=\"vi\" lang=\"vi\" title=\"Python – Vietnamese\"><span>Tiếng Việt</span></a>,\n",
       " <a class=\"interlanguage-link-target\" href=\"https://zh.wikipedia.org/wiki/Python_(%E6%B6%88%E6%AD%A7%E4%B9%89)\" hreflang=\"zh\" lang=\"zh\" title=\"Python (消歧义) – Chinese\"><span>中文</span></a>,\n",
       " <a class=\"wbc-editpage\" href=\"https://www.wikidata.org/wiki/Special:EntityPage/Q747452#sitelinks-wikipedia\" title=\"Edit interlanguage links\">Edit links</a>,\n",
       " <a accesskey=\"c\" href=\"/wiki/Python\" title=\"View the content page [c]\"><span>Article</span></a>,\n",
       " <a accesskey=\"t\" href=\"/wiki/Talk:Python\" rel=\"discussion\" title=\"Discuss improvements to the content page [t]\"><span>Talk</span></a>,\n",
       " <a href=\"/wiki/Python\"><span>Read</span></a>,\n",
       " <a accesskey=\"e\" href=\"/w/index.php?title=Python&amp;action=edit\" title=\"Edit this page [e]\"><span>Edit</span></a>,\n",
       " <a accesskey=\"h\" href=\"/w/index.php?title=Python&amp;action=history\" title=\"Past revisions of this page [h]\"><span>View history</span></a>,\n",
       " <a href=\"/wiki/Python\"><span>Read</span></a>,\n",
       " <a accesskey=\"e\" href=\"/w/index.php?title=Python&amp;action=edit\" title=\"Edit this page [e]\"><span>Edit</span></a>,\n",
       " <a href=\"/w/index.php?title=Python&amp;action=history\"><span>View history</span></a>,\n",
       " <a accesskey=\"j\" href=\"/wiki/Special:WhatLinksHere/Python\" title=\"List of all English Wikipedia pages containing links to this page [j]\"><span>What links here</span></a>,\n",
       " <a accesskey=\"k\" href=\"/wiki/Special:RecentChangesLinked/Python\" rel=\"nofollow\" title=\"Recent changes in pages linked from this page [k]\"><span>Related changes</span></a>,\n",
       " <a accesskey=\"u\" href=\"/wiki/Wikipedia:File_Upload_Wizard\" title=\"Upload files [u]\"><span>Upload file</span></a>,\n",
       " <a accesskey=\"q\" href=\"/wiki/Special:SpecialPages\" title=\"A list of all special pages [q]\"><span>Special pages</span></a>,\n",
       " <a href=\"/w/index.php?title=Python&amp;oldid=1186029993\" title=\"Permanent link to this revision of this page\"><span>Permanent link</span></a>,\n",
       " <a href=\"/w/index.php?title=Python&amp;action=info\" title=\"More information about this page\"><span>Page information</span></a>,\n",
       " <a href=\"/w/index.php?title=Special:CiteThisPage&amp;page=Python&amp;id=1186029993&amp;wpFormIdentifier=titleform\" title=\"Information on how to cite this page\"><span>Cite this page</span></a>,\n",
       " <a href=\"/w/index.php?title=Special:UrlShortener&amp;url=https%3A%2F%2Fen.wikipedia.org%2Fwiki%2FPython\"><span>Get shortened URL</span></a>,\n",
       " <a accesskey=\"g\" href=\"https://www.wikidata.org/wiki/Special:EntityPage/Q747452\" title=\"Structured data on this page hosted by Wikidata [g]\"><span>Wikidata item</span></a>,\n",
       " <a href=\"/w/index.php?title=Special:DownloadAsPdf&amp;page=Python&amp;action=show-download-screen\" title=\"Download this page as a PDF file\"><span>Download as PDF</span></a>,\n",
       " <a accesskey=\"p\" href=\"/w/index.php?title=Python&amp;printable=yes\" title=\"Printable version of this page [p]\"><span>Printable version</span></a>,\n",
       " <a href=\"https://commons.wikimedia.org/wiki/Category:Python\" hreflang=\"en\"><span>Wikimedia Commons</span></a>,\n",
       " <a class=\"extiw\" href=\"https://en.wiktionary.org/wiki/Python\" title=\"wiktionary:Python\">Python</a>,\n",
       " <a class=\"extiw\" href=\"https://en.wiktionary.org/wiki/python\" title=\"wiktionary:python\">python</a>,\n",
       " <a href=\"/w/index.php?title=Python&amp;action=edit&amp;section=1\" title=\"Edit section: Snakes\"><span>edit</span></a>,\n",
       " <a href=\"/wiki/Pythonidae\" title=\"Pythonidae\">Pythonidae</a>,\n",
       " <a href=\"/wiki/Python_(genus)\" title=\"Python (genus)\"><i>Python</i> (genus)</a>,\n",
       " <a href=\"/wiki/Python_(mythology)\" title=\"Python (mythology)\">Python (mythology)</a>,\n",
       " <a href=\"/w/index.php?title=Python&amp;action=edit&amp;section=2\" title=\"Edit section: Computing\"><span>edit</span></a>,\n",
       " <a href=\"/wiki/Python_(programming_language)\" title=\"Python (programming language)\">Python (programming language)</a>,\n",
       " <a href=\"/wiki/CMU_Common_Lisp\" title=\"CMU Common Lisp\">CMU Common Lisp</a>,\n",
       " <a href=\"/wiki/PERQ#PERQ_3\" title=\"PERQ\">PERQ 3</a>,\n",
       " <a href=\"/w/index.php?title=Python&amp;action=edit&amp;section=3\" title=\"Edit section: People\"><span>edit</span></a>,\n",
       " <a href=\"/wiki/Python_of_Aenus\" title=\"Python of Aenus\">Python of Aenus</a>,\n",
       " <a href=\"/wiki/Python_(painter)\" title=\"Python (painter)\">Python (painter)</a>,\n",
       " <a href=\"/wiki/Python_of_Byzantium\" title=\"Python of Byzantium\">Python of Byzantium</a>,\n",
       " <a href=\"/wiki/Python_of_Catana\" title=\"Python of Catana\">Python of Catana</a>,\n",
       " <a href=\"/wiki/Python_Anghelo\" title=\"Python Anghelo\">Python Anghelo</a>,\n",
       " <a href=\"/w/index.php?title=Python&amp;action=edit&amp;section=4\" title=\"Edit section: Roller coasters\"><span>edit</span></a>,\n",
       " <a href=\"/wiki/Python_(Efteling)\" title=\"Python (Efteling)\">Python (Efteling)</a>,\n",
       " <a href=\"/wiki/Python_(Busch_Gardens_Tampa_Bay)\" title=\"Python (Busch Gardens Tampa Bay)\">Python (Busch Gardens Tampa Bay)</a>,\n",
       " <a href=\"/wiki/Python_(Coney_Island,_Cincinnati,_Ohio)\" title=\"Python (Coney Island, Cincinnati, Ohio)\">Python (Coney Island, Cincinnati, Ohio)</a>,\n",
       " <a href=\"/w/index.php?title=Python&amp;action=edit&amp;section=5\" title=\"Edit section: Vehicles\"><span>edit</span></a>,\n",
       " <a href=\"/wiki/Python_(automobile_maker)\" title=\"Python (automobile maker)\">Python (automobile maker)</a>,\n",
       " <a href=\"/wiki/Python_(Ford_prototype)\" title=\"Python (Ford prototype)\">Python (Ford prototype)</a>,\n",
       " <a href=\"/w/index.php?title=Python&amp;action=edit&amp;section=6\" title=\"Edit section: Weaponry\"><span>edit</span></a>,\n",
       " <a href=\"/wiki/Python_(missile)\" title=\"Python (missile)\">Python (missile)</a>,\n",
       " <a href=\"/wiki/Python_(nuclear_primary)\" title=\"Python (nuclear primary)\">Python (nuclear primary)</a>,\n",
       " <a href=\"/wiki/Colt_Python\" title=\"Colt Python\">Colt Python</a>,\n",
       " <a href=\"/w/index.php?title=Python&amp;action=edit&amp;section=7\" title=\"Edit section: Other uses\"><span>edit</span></a>,\n",
       " <a href=\"/wiki/Python_(codename)\" title=\"Python (codename)\">Python (codename)</a>,\n",
       " <a href=\"/wiki/Python_(film)\" title=\"Python (film)\"><i>Python</i> (film)</a>,\n",
       " <a href=\"/wiki/Monty_Python\" title=\"Monty Python\">Monty Python</a>,\n",
       " <a href=\"/wiki/Python_(Monty)_Pictures\" title=\"Python (Monty) Pictures\">Python (Monty) Pictures</a>,\n",
       " <a href=\"/wiki/Timon_of_Phlius\" title=\"Timon of Phlius\">Timon of Phlius</a>,\n",
       " <a href=\"/w/index.php?title=Python&amp;action=edit&amp;section=8\" title=\"Edit section: See also\"><span>edit</span></a>,\n",
       " <a href=\"/wiki/Pyton\" title=\"Pyton\">Pyton</a>,\n",
       " <a href=\"/wiki/Pithon\" title=\"Pithon\">Pithon</a>,\n",
       " <a class=\"mw-file-description\" href=\"/wiki/File:Disambig_gray.svg\"><img alt=\"Disambiguation icon\" class=\"mw-file-element\" data-file-height=\"168\" data-file-width=\"220\" decoding=\"async\" height=\"23\" src=\"//upload.wikimedia.org/wikipedia/en/thumb/5/5f/Disambig_gray.svg/30px-Disambig_gray.svg.png\" srcset=\"//upload.wikimedia.org/wikipedia/en/thumb/5/5f/Disambig_gray.svg/45px-Disambig_gray.svg.png 1.5x, //upload.wikimedia.org/wikipedia/en/thumb/5/5f/Disambig_gray.svg/60px-Disambig_gray.svg.png 2x\" width=\"30\"/></a>,\n",
       " <a href=\"/wiki/Help:Disambiguation\" title=\"Help:Disambiguation\">disambiguation</a>,\n",
       " <a class=\"external text\" href=\"https://en.wikipedia.org/w/index.php?title=Special:WhatLinksHere/Python&amp;namespace=0\">internal link</a>,\n",
       " <a dir=\"ltr\" href=\"https://en.wikipedia.org/w/index.php?title=Python&amp;oldid=1186029993\">https://en.wikipedia.org/w/index.php?title=Python&amp;oldid=1186029993</a>,\n",
       " <a href=\"/wiki/Help:Category\" title=\"Help:Category\">Categories</a>,\n",
       " <a href=\"/wiki/Category:Disambiguation_pages\" title=\"Category:Disambiguation pages\">Disambiguation pages</a>,\n",
       " <a href=\"/wiki/Category:Human_name_disambiguation_pages\" title=\"Category:Human name disambiguation pages\">Human name disambiguation pages</a>,\n",
       " <a href=\"/wiki/Category:Disambiguation_pages_with_given-name-holder_lists\" title=\"Category:Disambiguation pages with given-name-holder lists\">Disambiguation pages with given-name-holder lists</a>,\n",
       " <a href=\"/wiki/Category:Short_description_is_different_from_Wikidata\" title=\"Category:Short description is different from Wikidata\">Short description is different from Wikidata</a>,\n",
       " <a href=\"/wiki/Category:All_article_disambiguation_pages\" title=\"Category:All article disambiguation pages\">All article disambiguation pages</a>,\n",
       " <a href=\"/wiki/Category:All_disambiguation_pages\" title=\"Category:All disambiguation pages\">All disambiguation pages</a>,\n",
       " <a href=\"/wiki/Category:Animal_common_name_disambiguation_pages\" title=\"Category:Animal common name disambiguation pages\">Animal common name disambiguation pages</a>,\n",
       " <a href=\"//en.wikipedia.org/wiki/Wikipedia:Text_of_the_Creative_Commons_Attribution-ShareAlike_4.0_International_License\" rel=\"license\">Creative Commons Attribution-ShareAlike License 4.0</a>,\n",
       " <a href=\"//en.wikipedia.org/wiki/Wikipedia:Text_of_the_Creative_Commons_Attribution-ShareAlike_4.0_International_License\" rel=\"license\" style=\"display:none;\"></a>,\n",
       " <a href=\"//foundation.wikimedia.org/wiki/Terms_of_Use\">Terms of Use</a>,\n",
       " <a href=\"//foundation.wikimedia.org/wiki/Privacy_policy\">Privacy Policy</a>,\n",
       " <a href=\"//www.wikimediafoundation.org/\">Wikimedia Foundation, Inc.</a>,\n",
       " <a href=\"https://foundation.wikimedia.org/wiki/Special:MyLanguage/Policy:Privacy_policy\">Privacy policy</a>,\n",
       " <a href=\"/wiki/Wikipedia:About\">About Wikipedia</a>,\n",
       " <a href=\"/wiki/Wikipedia:General_disclaimer\">Disclaimers</a>,\n",
       " <a href=\"//en.wikipedia.org/wiki/Wikipedia:Contact_us\">Contact Wikipedia</a>,\n",
       " <a href=\"https://foundation.wikimedia.org/wiki/Special:MyLanguage/Policy:Universal_Code_of_Conduct\">Code of Conduct</a>,\n",
       " <a href=\"https://developer.wikimedia.org\">Developers</a>,\n",
       " <a href=\"https://stats.wikimedia.org/#/en.wikipedia.org\">Statistics</a>,\n",
       " <a href=\"https://foundation.wikimedia.org/wiki/Special:MyLanguage/Policy:Cookie_statement\">Cookie statement</a>,\n",
       " <a class=\"noprint stopMobileRedirectToggle\" href=\"//en.m.wikipedia.org/w/index.php?title=Python&amp;mobileaction=toggle_view_mobile\">Mobile view</a>,\n",
       " <a href=\"https://wikimediafoundation.org/\"><img alt=\"Wikimedia Foundation\" height=\"31\" loading=\"lazy\" src=\"/static/images/footer/wikimedia-button.png\" srcset=\"/static/images/footer/wikimedia-button-1.5x.png 1.5x, /static/images/footer/wikimedia-button-2x.png 2x\" width=\"88\"/></a>,\n",
       " <a href=\"https://www.mediawiki.org/\"><img alt=\"Powered by MediaWiki\" height=\"31\" loading=\"lazy\" src=\"/static/images/footer/poweredby_mediawiki_88x31.png\" srcset=\"/static/images/footer/poweredby_mediawiki_132x47.png 1.5x, /static/images/footer/poweredby_mediawiki_176x62.png 2x\" width=\"88\"/></a>]"
      ]
     },
     "execution_count": 5,
     "metadata": {},
     "output_type": "execute_result"
    }
   ],
   "source": [
    "# Find all links in the page\n",
    "links = soup_python.find_all('a', href=True)\n",
    "links"
   ]
  },
  {
   "cell_type": "code",
   "execution_count": 6,
   "id": "24076cb6",
   "metadata": {},
   "outputs": [
    {
     "data": {
      "text/plain": [
       "['https://donate.wikimedia.org/wiki/Special:FundraiserRedirector?utm_source=donate&utm_medium=sidebar&utm_campaign=C13_en.wikipedia.org&uselang=en',\n",
       " 'https://af.wikipedia.org/wiki/Python',\n",
       " 'https://als.wikipedia.org/wiki/Python',\n",
       " 'https://ar.wikipedia.org/wiki/%D8%A8%D8%A7%D9%8A%D8%AB%D9%88%D9%86_(%D8%AA%D9%88%D8%B6%D9%8A%D8%AD)',\n",
       " 'https://az.wikipedia.org/wiki/Python_(d%C9%99qiql%C9%99%C5%9Fdirm%C9%99)',\n",
       " 'https://bn.wikipedia.org/wiki/%E0%A6%AA%E0%A6%BE%E0%A6%87%E0%A6%A5%E0%A6%A8_(%E0%A6%A6%E0%A7%8D%E0%A6%AC%E0%A7%8D%E0%A6%AF%E0%A6%B0%E0%A7%8D%E0%A6%A5%E0%A6%A4%E0%A6%BE_%E0%A6%A8%E0%A6%BF%E0%A6%B0%E0%A6%B8%E0%A6%A8)',\n",
       " 'https://be.wikipedia.org/wiki/Python',\n",
       " 'https://bg.wikipedia.org/wiki/%D0%9F%D0%B8%D1%82%D0%BE%D0%BD_(%D0%BF%D0%BE%D1%8F%D1%81%D0%BD%D0%B5%D0%BD%D0%B8%D0%B5)',\n",
       " 'https://cs.wikipedia.org/wiki/Python_(rozcestn%C3%ADk)',\n",
       " 'https://da.wikipedia.org/wiki/Python',\n",
       " 'https://de.wikipedia.org/wiki/Python',\n",
       " 'https://eo.wikipedia.org/wiki/Pitono_(apartigilo)',\n",
       " 'https://eu.wikipedia.org/wiki/Python_(argipena)',\n",
       " 'https://fa.wikipedia.org/wiki/%D9%BE%D8%A7%DB%8C%D8%AA%D9%88%D9%86',\n",
       " 'https://fr.wikipedia.org/wiki/Python',\n",
       " 'https://ko.wikipedia.org/wiki/%ED%8C%8C%EC%9D%B4%EC%84%A0',\n",
       " 'https://hr.wikipedia.org/wiki/Python_(razdvojba)',\n",
       " 'https://io.wikipedia.org/wiki/Pitono',\n",
       " 'https://id.wikipedia.org/wiki/Python',\n",
       " 'https://ia.wikipedia.org/wiki/Python_(disambiguation)',\n",
       " 'https://is.wikipedia.org/wiki/Python_(a%C3%B0greining)',\n",
       " 'https://it.wikipedia.org/wiki/Python_(disambigua)',\n",
       " 'https://he.wikipedia.org/wiki/%D7%A4%D7%99%D7%AA%D7%95%D7%9F',\n",
       " 'https://ka.wikipedia.org/wiki/%E1%83%9E%E1%83%98%E1%83%97%E1%83%9D%E1%83%9C%E1%83%98_(%E1%83%9B%E1%83%A0%E1%83%90%E1%83%95%E1%83%90%E1%83%9A%E1%83%9B%E1%83%9C%E1%83%98%E1%83%A8%E1%83%95%E1%83%9C%E1%83%94%E1%83%9A%E1%83%9D%E1%83%95%E1%83%90%E1%83%9C%E1%83%98)',\n",
       " 'https://kg.wikipedia.org/wiki/Mboma_(nyoka)',\n",
       " 'https://la.wikipedia.org/wiki/Python_(discretiva)',\n",
       " 'https://lb.wikipedia.org/wiki/Python',\n",
       " 'https://hu.wikipedia.org/wiki/Python_(egy%C3%A9rtelm%C5%B1s%C3%ADt%C5%91_lap)',\n",
       " 'https://mr.wikipedia.org/wiki/%E0%A4%AA%E0%A4%BE%E0%A4%AF%E0%A4%A5%E0%A5%89%E0%A4%A8_(%E0%A4%86%E0%A4%9C%E0%A5%8D%E0%A4%9E%E0%A4%BE%E0%A4%B5%E0%A4%B2%E0%A5%80_%E0%A4%AD%E0%A4%BE%E0%A4%B7%E0%A4%BE)',\n",
       " 'https://nl.wikipedia.org/wiki/Python',\n",
       " 'https://ja.wikipedia.org/wiki/%E3%83%91%E3%82%A4%E3%82%BD%E3%83%B3',\n",
       " 'https://no.wikipedia.org/wiki/Pyton',\n",
       " 'https://pl.wikipedia.org/wiki/Pyton',\n",
       " 'https://pt.wikipedia.org/wiki/Python_(desambigua%C3%A7%C3%A3o)',\n",
       " 'https://ru.wikipedia.org/wiki/Python_(%D0%B7%D0%BD%D0%B0%D1%87%D0%B5%D0%BD%D0%B8%D1%8F)',\n",
       " 'https://sk.wikipedia.org/wiki/Python',\n",
       " 'https://sr.wikipedia.org/wiki/%D0%9F%D0%B8%D1%82%D0%BE%D0%BD_(%D0%B2%D0%B8%D1%88%D0%B5%D0%B7%D0%BD%D0%B0%D1%87%D0%BD%D0%B0_%D0%BE%D0%B4%D1%80%D0%B5%D0%B4%D0%BD%D0%B8%D1%86%D0%B0)',\n",
       " 'https://sh.wikipedia.org/wiki/Python',\n",
       " 'https://fi.wikipedia.org/wiki/Python',\n",
       " 'https://sv.wikipedia.org/wiki/Pyton',\n",
       " 'https://th.wikipedia.org/wiki/%E0%B9%84%E0%B8%9E%E0%B8%97%E0%B8%AD%E0%B8%99',\n",
       " 'https://tr.wikipedia.org/wiki/Python_(anlam_ayr%C4%B1m%C4%B1)',\n",
       " 'https://uk.wikipedia.org/wiki/%D0%9F%D1%96%D1%84%D0%BE%D0%BD',\n",
       " 'https://ur.wikipedia.org/wiki/%D9%BE%D8%A7%D8%A6%DB%8C%D8%AA%DA%BE%D9%88%D9%86',\n",
       " 'https://vi.wikipedia.org/wiki/Python',\n",
       " 'https://zh.wikipedia.org/wiki/Python_(%E6%B6%88%E6%AD%A7%E4%B9%89)',\n",
       " 'https://www.wikidata.org/wiki/Special:EntityPage/Q747452#sitelinks-wikipedia',\n",
       " 'https://www.wikidata.org/wiki/Special:EntityPage/Q747452',\n",
       " 'https://commons.wikimedia.org/wiki/Category:Python',\n",
       " 'https://en.wiktionary.org/wiki/Python',\n",
       " 'https://en.wiktionary.org/wiki/python',\n",
       " 'https://en.wikipedia.org/w/index.php?title=Special:WhatLinksHere/Python&namespace=0',\n",
       " 'https://en.wikipedia.org/w/index.php?title=Python&oldid=1186029993',\n",
       " 'https://foundation.wikimedia.org/wiki/Special:MyLanguage/Policy:Privacy_policy',\n",
       " 'https://foundation.wikimedia.org/wiki/Special:MyLanguage/Policy:Universal_Code_of_Conduct',\n",
       " 'https://developer.wikimedia.org',\n",
       " 'https://stats.wikimedia.org/#/en.wikipedia.org',\n",
       " 'https://foundation.wikimedia.org/wiki/Special:MyLanguage/Policy:Cookie_statement',\n",
       " 'https://wikimediafoundation.org/',\n",
       " 'https://www.mediawiki.org/']"
      ]
     },
     "execution_count": 6,
     "metadata": {},
     "output_type": "execute_result"
    }
   ],
   "source": [
    "# Extract the links\n",
    "link_urls = [link['href'] for link in links if link['href'].startswith('http')]\n",
    "link_urls"
   ]
  },
  {
   "cell_type": "markdown",
   "id": "7c7cd7a1",
   "metadata": {},
   "source": [
    "## Create a Python list with the top ten FBI's Most Wanted names: url = 'https://www.fbi.gov/wanted/topten'"
   ]
  },
  {
   "cell_type": "code",
   "execution_count": 7,
   "id": "6b68c041",
   "metadata": {},
   "outputs": [],
   "source": [
    "url_fbi = 'https://www.fbi.gov/wanted/topten'"
   ]
  },
  {
   "cell_type": "code",
   "execution_count": 8,
   "id": "c3a28381",
   "metadata": {},
   "outputs": [
    {
     "data": {
      "text/plain": [
       "403"
      ]
     },
     "execution_count": 8,
     "metadata": {},
     "output_type": "execute_result"
    }
   ],
   "source": [
    "response = requests.get(url_fbi)\n",
    "response.status_code"
   ]
  },
  {
   "cell_type": "code",
   "execution_count": 9,
   "id": "363cfdd6",
   "metadata": {},
   "outputs": [
    {
     "data": {
      "text/plain": [
       "200"
      ]
     },
     "execution_count": 9,
     "metadata": {},
     "output_type": "execute_result"
    }
   ],
   "source": [
    "headers = {\n",
    "    'User-Agent': 'Mozilla/5.0 (Windows NT 10.0; Win64; x64) AppleWebKit/537.36 (KHTML, like Gecko) Chrome/58.0.3029.110 Safari/537.3'}\n",
    "response = requests.get(url_fbi, headers=headers)\n",
    "response.status_code"
   ]
  },
  {
   "cell_type": "code",
   "execution_count": 10,
   "id": "d4cd5217",
   "metadata": {},
   "outputs": [],
   "source": [
    "soup_fbi = BeautifulSoup(response.content, \"html.parser\")"
   ]
  },
  {
   "cell_type": "code",
   "execution_count": 11,
   "id": "c9a1ce42",
   "metadata": {},
   "outputs": [
    {
     "data": {
      "text/plain": [
       "[<h3 class=\"title\">\n",
       " <a href=\"https://www.fbi.gov/wanted/topten/wilver-villegas-palomino\">WILVER VILLEGAS-PALOMINO</a>\n",
       " </h3>,\n",
       " <h3 class=\"title\">\n",
       " <a href=\"https://www.fbi.gov/wanted/topten/vitelhomme-innocent\">VITEL'HOMME INNOCENT</a>\n",
       " </h3>,\n",
       " <h3 class=\"title\">\n",
       " <a href=\"https://www.fbi.gov/wanted/topten/alejandro-castillo\">ALEJANDRO ROSALES CASTILLO</a>\n",
       " </h3>,\n",
       " <h3 class=\"title\">\n",
       " <a href=\"https://www.fbi.gov/wanted/topten/alexis-flores\">ALEXIS FLORES</a>\n",
       " </h3>,\n",
       " <h3 class=\"title\">\n",
       " <a href=\"https://www.fbi.gov/wanted/topten/arnoldo-jimenez\">ARNOLDO JIMENEZ</a>\n",
       " </h3>,\n",
       " <h3 class=\"title\">\n",
       " <a href=\"https://www.fbi.gov/wanted/topten/omar-alexander-cardenas\">OMAR ALEXANDER CARDENAS</a>\n",
       " </h3>,\n",
       " <h3 class=\"title\">\n",
       " <a href=\"https://www.fbi.gov/wanted/topten/yulan-adonay-archaga-carias\">YULAN ADONAY ARCHAGA CARIAS</a>\n",
       " </h3>,\n",
       " <h3 class=\"title\">\n",
       " <a href=\"https://www.fbi.gov/wanted/topten/bhadreshkumar-chetanbhai-patel\">BHADRESHKUMAR CHETANBHAI PATEL</a>\n",
       " </h3>,\n",
       " <h3 class=\"title\">\n",
       " <a href=\"https://www.fbi.gov/wanted/topten/donald-eugene-fields-ii\">DONALD EUGENE FIELDS II</a>\n",
       " </h3>,\n",
       " <h3 class=\"title\">\n",
       " <a href=\"https://www.fbi.gov/wanted/topten/ruja-ignatova\">RUJA IGNATOVA</a>\n",
       " </h3>]"
      ]
     },
     "execution_count": 11,
     "metadata": {},
     "output_type": "execute_result"
    }
   ],
   "source": [
    "#solution 1 \n",
    "names = soup_fbi.find_all('h3', class_ = 'title')\n",
    "names"
   ]
  },
  {
   "cell_type": "code",
   "execution_count": 12,
   "id": "abad1616",
   "metadata": {},
   "outputs": [],
   "source": [
    "name = soup_fbi.select('#query-results-0f737222c5054a81a120bce207b0446a > ul > li > h3 > a')"
   ]
  },
  {
   "cell_type": "code",
   "execution_count": 14,
   "id": "0bf1b157",
   "metadata": {},
   "outputs": [],
   "source": [
    "wanted_list = []\n",
    "for i in names:\n",
    "    wanted_list.append(i.text.strip())"
   ]
  },
  {
   "cell_type": "code",
   "execution_count": 15,
   "id": "a2585ea6",
   "metadata": {},
   "outputs": [
    {
     "data": {
      "text/plain": [
       "['WILVER VILLEGAS-PALOMINO',\n",
       " \"VITEL'HOMME INNOCENT\",\n",
       " 'ALEJANDRO ROSALES CASTILLO',\n",
       " 'ALEXIS FLORES',\n",
       " 'ARNOLDO JIMENEZ',\n",
       " 'OMAR ALEXANDER CARDENAS',\n",
       " 'YULAN ADONAY ARCHAGA CARIAS',\n",
       " 'BHADRESHKUMAR CHETANBHAI PATEL',\n",
       " 'DONALD EUGENE FIELDS II',\n",
       " 'RUJA IGNATOVA']"
      ]
     },
     "execution_count": 15,
     "metadata": {},
     "output_type": "execute_result"
    }
   ],
   "source": [
    "wanted_list"
   ]
  },
  {
   "cell_type": "markdown",
   "id": "55deaa50",
   "metadata": {},
   "source": [
    "## A list with the different kind of datasets available in data.gov.uk: url = 'https://data.gov.uk/'"
   ]
  },
  {
   "cell_type": "code",
   "execution_count": 18,
   "id": "fbe84d52",
   "metadata": {},
   "outputs": [],
   "source": [
    "url_uk = 'https://data.gov.uk/'"
   ]
  },
  {
   "cell_type": "code",
   "execution_count": 19,
   "id": "855c1ec6",
   "metadata": {},
   "outputs": [
    {
     "data": {
      "text/plain": [
       "200"
      ]
     },
     "execution_count": 19,
     "metadata": {},
     "output_type": "execute_result"
    }
   ],
   "source": [
    "response = requests.get(url_uk)\n",
    "response.status_code"
   ]
  },
  {
   "cell_type": "code",
   "execution_count": 21,
   "id": "0e2e0361",
   "metadata": {},
   "outputs": [],
   "source": [
    "soup_uk = BeautifulSoup(response.content, \"html.parser\")"
   ]
  },
  {
   "cell_type": "code",
   "execution_count": 23,
   "id": "67658f7a",
   "metadata": {},
   "outputs": [
    {
     "data": {
      "text/plain": [
       "\n",
       "<!DOCTYPE html>\n",
       "\n",
       "<!--[if lt IE 9]><html class=\"lte-ie8\" lang=\"en\"><![endif]-->\n",
       "<!--[if gt IE 8]><!--><html lang=\"en\"><!--<![endif]-->\n",
       "<html class=\"govuk-template\">\n",
       "<head>\n",
       "<meta charset=\"utf-8\"/>\n",
       "<title>Find open data - data.gov.uk</title>\n",
       "<meta content=\"#0b0c0c\" name=\"theme-color\">\n",
       "<meta content=\"width=device-width, initial-scale=1\" name=\"viewport\"/>\n",
       "<link href=\"/find-assets/application-8b7545934ebe6ea0b37d1329e4ab1781289bbe3194049d0fcf13e5b605f3d694.css\" media=\"screen\" rel=\"stylesheet\"/>\n",
       "<meta content=\"authenticity_token\" name=\"csrf-param\">\n",
       "<meta content=\"PfDYcH9h3TM0B3lRGFl1dzQvxX8CL9lJj9vjulNTHGxN15tH8ORus1ASkaAIJvXh1Rz3D3xap6zA37rjSAZIig\" name=\"csrf-token\"/>\n",
       "</meta></meta></head>\n",
       "<body class=\"govuk-template__body\">\n",
       "<script>document.body.className = ((document.body.className) ? document.body.className + ' js-enabled' : 'js-enabled');</script>\n",
       "<div aria-label=\"cookie banner\" class=\"gem-c-cookie-banner govuk-clearfix\" data-module=\"cookie-banner\" data-nosnippet=\"\" id=\"global-cookie-message\" role=\"region\">\n",
       "<div aria-label=\"Cookies on GOV.UK\" class=\"govuk-cookie-banner js-banner-wrapper\" role=\"region\">\n",
       "<div class=\"gem-c-cookie-banner__message govuk-cookie-banner__message govuk-width-container\">\n",
       "<div class=\"govuk-grid-row\">\n",
       "<div class=\"govuk-grid-column-two-thirds\">\n",
       "<h2 class=\"govuk-cookie-banner__heading govuk-heading-m\">Cookies on GOV.UK</h2>\n",
       "<div class=\"govuk-cookie-banner__content\">\n",
       "<p class=\"govuk-body\">We use <a class=\"govuk-link\" href=\"/cookies\">cookies to collect information</a> about how you use data.gov.uk. We use this information to make the website work as well as possible.</p>\n",
       "</div>\n",
       "</div>\n",
       "</div>\n",
       "<div class=\"govuk-button-group\">\n",
       "<button class=\"gem-c-button govuk-button\" data-accept-cookies=\"true\" data-cookie-types=\"all\" data-module=\"gem-track-click\" data-track-action=\"Cookie banner accepted\" data-track-category=\"cookieBanner\" type=\"submit\">Accept additional cookies</button>\n",
       "<button class=\"gem-c-button govuk-button\" data-module=\"gem-track-click\" data-reject-cookies=\"true\" data-track-action=\"Cookie banner rejected\" data-track-category=\"cookieBanner\" type=\"submit\">Reject additional cookies</button>\n",
       "<a class=\"govuk-link\" href=\"/cookies\">View cookies</a>\n",
       "</div>\n",
       "</div>\n",
       "</div>\n",
       "<div class=\"gem-c-cookie-banner__confirmation govuk-width-container\" hidden=\"\" tabindex=\"-1\">\n",
       "<p class=\"gem-c-cookie-banner__confirmation-message\" role=\"alert\">You can <a class=\"govuk-link\" data-module=\"gem-track-click\" data-track-action=\"Cookie banner settings clicked from confirmation\" data-track-category=\"cookieBanner\" href=\"/cookies\">change your cookie settings</a> at any time.</p>\n",
       "<div class=\"govuk-button-group\">\n",
       "<button class=\"gem-c-cookie-banner__hide-button govuk-button\" data-hide-cookie-banner=\"true\" data-module=\"gem-track-click\" data-track-action=\"Hide cookie banner\" data-track-category=\"cookieBanner\">Hide this message</button>\n",
       "</div>\n",
       "</div>\n",
       "</div>\n",
       "<a class=\"gem-c-skip-link govuk-skip-link govuk-!-display-none-print\" data-module=\"govuk-skip-link\" href=\"#main-content\">Skip to main content</a>\n",
       "<header class=\"govuk-header\" data-module=\"govuk-header\" role=\"banner\">\n",
       "<div class=\"govuk-header__container govuk-width-container\">\n",
       "<div class=\"govuk-grid-row\">\n",
       "<div class=\"govuk-header__logo govuk-grid-column-one-half\">\n",
       "<a class=\"govuk-header__link govuk-header__link--homepage\" href=\"/\">\n",
       "                data.gov.uk | Find open data\n",
       "              </a>\n",
       "</div>\n",
       "<div class=\"govuk-grid-column-one-half\">\n",
       "<nav aria-label=\"Top level\" class=\"gem-c-header__nav govuk-header__navigation govuk-header__navigation--end\">\n",
       "<button aria-controls=\"navigation\" aria-label=\"Show or hide Top Level Navigation\" class=\"govuk-header__menu-button govuk-js-header-toggle gem-c-header__menu-button govuk-!-display-none-print\" data-button-name=\"menu\" type=\"button\">\n",
       "      Menu\n",
       "    </button>\n",
       "<ul class=\"govuk-header__navigation-list\" id=\"navigation\">\n",
       "<li class=\"govuk-header__navigation-item\">\n",
       "<a class=\"govuk-header__link\" href=\"/publishers\">Publish your data</a>\n",
       "</li> <li class=\"govuk-header__navigation-item\">\n",
       "<a class=\"govuk-header__link\" href=\"https://guidance.data.gov.uk/publish_and_manage_data/\">Documentation</a>\n",
       "</li> <li class=\"govuk-header__navigation-item\">\n",
       "<a class=\"govuk-header__link\" href=\"/support\">Support</a>\n",
       "</li> </ul>\n",
       "</nav>\n",
       "</div>\n",
       "</div>\n",
       "</div>\n",
       "</header>\n",
       "<div class=\"dgu-top-non-content\">\n",
       "<div class=\"dgu-top-non-content__inner\">\n",
       "<div class=\"phase-banner\" id=\"dgu-phase-banner\">\n",
       "<p>\n",
       "<strong class=\"phase-tag\">BETA</strong>\n",
       "<span>This is a new service – your <a class=\"govuk-link\" href=\"http://www.smartsurvey.co.uk/s/3SEXD/\">feedback</a> will help us to improve it\n",
       "    </span>\n",
       "</p>\n",
       "</div>\n",
       "</div>\n",
       "</div>\n",
       "<div class=\"govuk-width-container\">\n",
       "<main class=\"govuk-main-wrapper\" id=\"main-content\" role=\"main\">\n",
       "<div class=\"govuk-grid-row\">\n",
       "<div class=\"govuk-grid-column-two-thirds\">\n",
       "<div class=\"gem-c-title govuk-!-margin-top-8 govuk-!-margin-bottom-8\">\n",
       "<h1 class=\"gem-c-title__text govuk-heading-xl\">\n",
       "    Find open data\n",
       "  </h1>\n",
       "</div>\n",
       "<p class=\"gem-c-lead-paragraph\">Find data published by central government, local authorities and public bodies to help you build products and services</p>\n",
       "</div>\n",
       "</div>\n",
       "<div class=\"govuk-grid-row\">\n",
       "<form action=\"/search\" class=\"govuk-grid-column-two-thirds\" method=\"GET\">\n",
       "<div class=\"gem-c-search govuk-!-display-none-print gem-c-search--on-white\" data-module=\"gem-toggle-input-class-on-focus\">\n",
       "<label class=\"gem-c-search__label\" for=\"search-main-f674f846\">Search data.gov.uk</label>\n",
       "<div class=\"gem-c-search__item-wrapper\">\n",
       "<input class=\"gem-c-search__item gem-c-search__input js-class-toggle\" enterkeyhint=\"search\" id=\"search-main-f674f846\" name=\"q\" title=\"Search\" type=\"search\" value=\"\"/>\n",
       "<div class=\"gem-c-search__item gem-c-search__submit-wrapper\">\n",
       "<button class=\"gem-c-search__submit\" data-module=\"gem-track-click\" enterkeyhint=\"search\" type=\"submit\">\n",
       "        Search\n",
       "        \n",
       "<svg aria-hidden=\"true\" class=\"gem-c-search__icon\" fill=\"none\" focusable=\"false\" height=\"27\" viewbox=\"0 0 27 27\" width=\"27\" xmlns=\"http://www.w3.org/2000/svg\">\n",
       "<circle cx=\"12.0161\" cy=\"11.0161\" r=\"8.51613\" stroke=\"currentColor\" stroke-width=\"3\"></circle>\n",
       "<line stroke=\"currentColor\" stroke-width=\"3\" x1=\"17.8668\" x2=\"26.4475\" y1=\"17.3587\" y2=\"25.9393\"></line>\n",
       "</svg>\n",
       "</button> </div>\n",
       "</div>\n",
       "</div>\n",
       "</form>\n",
       "</div>\n",
       "<div class=\"govuk-grid-row\">\n",
       "<h2 class=\"govuk-visually-hidden\">Data topics</h2>\n",
       "<div class=\"govuk-grid-column-full\">\n",
       "<ul class=\"govuk-list dgu-topics__list\">\n",
       "<li>\n",
       "<h3 class=\"govuk-heading-s dgu-topics__heading\"><a class=\"govuk-link\" href=\"/search?filters%5Btopic%5D=Business+and+economy\">Business and economy</a></h3>\n",
       "<p class=\"govuk-body\">Small businesses, industry, imports, exports and trade</p>\n",
       "</li>\n",
       "<li>\n",
       "<h3 class=\"govuk-heading-s dgu-topics__heading\"><a class=\"govuk-link\" href=\"/search?filters%5Btopic%5D=Crime+and+justice\">Crime and justice</a></h3>\n",
       "<p class=\"govuk-body\">Courts, police, prison, offenders, borders and immigration</p>\n",
       "</li>\n",
       "<li>\n",
       "<h3 class=\"govuk-heading-s dgu-topics__heading\"><a class=\"govuk-link\" href=\"/search?filters%5Btopic%5D=Defence\">Defence</a></h3>\n",
       "<p class=\"govuk-body\">Armed forces, health and safety, search and rescue</p>\n",
       "</li>\n",
       "<li>\n",
       "<h3 class=\"govuk-heading-s dgu-topics__heading\"><a class=\"govuk-link\" href=\"/search?filters%5Btopic%5D=Education\">Education</a></h3>\n",
       "<p class=\"govuk-body\">Students, training, qualifications and the National Curriculum</p>\n",
       "</li>\n",
       "<li>\n",
       "<h3 class=\"govuk-heading-s dgu-topics__heading\"><a class=\"govuk-link\" href=\"/search?filters%5Btopic%5D=Environment\">Environment</a></h3>\n",
       "<p class=\"govuk-body\">Weather, flooding, rivers, air quality, geology and agriculture</p>\n",
       "</li>\n",
       "<li>\n",
       "<h3 class=\"govuk-heading-s dgu-topics__heading\"><a class=\"govuk-link\" href=\"/search?filters%5Btopic%5D=Government\">Government</a></h3>\n",
       "<p class=\"govuk-body\">Staff numbers and pay, local councillors and department business plans</p>\n",
       "</li>\n",
       "<li>\n",
       "<h3 class=\"govuk-heading-s dgu-topics__heading\"><a class=\"govuk-link\" href=\"/search?filters%5Btopic%5D=Government+spending\">Government spending</a></h3>\n",
       "<p class=\"govuk-body\">Includes all payments by government departments over £25,000</p>\n",
       "</li>\n",
       "<li>\n",
       "<h3 class=\"govuk-heading-s dgu-topics__heading\"><a class=\"govuk-link\" href=\"/search?filters%5Btopic%5D=Health\">Health</a></h3>\n",
       "<p class=\"govuk-body\">Includes smoking, drugs, alcohol, medicine performance and hospitals</p>\n",
       "</li>\n",
       "<li>\n",
       "<h3 class=\"govuk-heading-s dgu-topics__heading\"><a class=\"govuk-link\" href=\"/search?filters%5Btopic%5D=Mapping\">Mapping</a></h3>\n",
       "<p class=\"govuk-body\">Addresses, boundaries, land ownership, aerial photographs, seabed and land terrain</p>\n",
       "</li>\n",
       "<li>\n",
       "<h3 class=\"govuk-heading-s dgu-topics__heading\"><a class=\"govuk-link\" href=\"/search?filters%5Btopic%5D=Society\">Society</a></h3>\n",
       "<p class=\"govuk-body\">Employment, benefits, household finances, poverty and population</p>\n",
       "</li>\n",
       "<li>\n",
       "<h3 class=\"govuk-heading-s dgu-topics__heading\"><a class=\"govuk-link\" href=\"/search?filters%5Btopic%5D=Towns+and+cities\">Towns and cities</a></h3>\n",
       "<p class=\"govuk-body\">Includes housing, urban planning, leisure, waste and energy, consumption</p>\n",
       "</li>\n",
       "<li>\n",
       "<h3 class=\"govuk-heading-s dgu-topics__heading\"><a class=\"govuk-link\" href=\"/search?filters%5Btopic%5D=Transport\">Transport</a></h3>\n",
       "<p class=\"govuk-body\">Airports, roads, freight, electric vehicles, parking, buses and footpaths</p>\n",
       "</li>\n",
       "<li>\n",
       "<h3 class=\"govuk-heading-s dgu-topics__heading\"><a class=\"govuk-link\" href=\"/search?filters%5Btopic%5D=Digital+service+performance\">Digital service performance</a></h3>\n",
       "<p class=\"govuk-body\">Cost, usage, completion rate, digital take-up, satisfaction</p>\n",
       "</li>\n",
       "<li>\n",
       "<h3 class=\"govuk-heading-s dgu-topics__heading\"><a class=\"govuk-link\" href=\"/search?filters%5Btopic%5D=Government+reference+data\">Government reference data</a></h3>\n",
       "<p class=\"govuk-body\">Trusted data that is referenced and shared across government departments</p>\n",
       "</li>\n",
       "</ul>\n",
       "</div>\n",
       "</div>\n",
       "</main>\n",
       "</div>\n",
       "<footer class=\"gem-c-layout-footer govuk-footer\" role=\"contentinfo\">\n",
       "<div class=\"govuk-width-container\" data-module=\"gem-track-click\">\n",
       "<div class=\"govuk-footer__meta\">\n",
       "<div class=\"govuk-footer__meta-item govuk-footer__meta-item--grow\">\n",
       "<h2 class=\"govuk-visually-hidden\">Support links</h2>\n",
       "<ul class=\"govuk-footer__inline-list govuk-!-display-none-print\">\n",
       "<li class=\"govuk-footer__inline-list-item\">\n",
       "<a class=\"govuk-footer__link\" href=\"/about\">About</a>\n",
       "</li>\n",
       "<li class=\"govuk-footer__inline-list-item\">\n",
       "<a class=\"govuk-footer__link\" href=\"/accessibility\">Accessibility</a>\n",
       "</li>\n",
       "<li class=\"govuk-footer__inline-list-item\">\n",
       "<a class=\"govuk-footer__link\" href=\"/cookies\">Cookies</a>\n",
       "</li>\n",
       "<li class=\"govuk-footer__inline-list-item\">\n",
       "<a class=\"govuk-footer__link\" href=\"/privacy\">Privacy</a>\n",
       "</li>\n",
       "<li class=\"govuk-footer__inline-list-item\">\n",
       "<a class=\"govuk-footer__link\" href=\"/terms\">Terms and conditions</a>\n",
       "</li>\n",
       "<li class=\"govuk-footer__inline-list-item\">\n",
       "<a class=\"govuk-footer__link\" href=\"/support\">Support</a>\n",
       "</li>\n",
       "<li class=\"govuk-footer__inline-list-item\">\n",
       "<a class=\"govuk-footer__link\" href=\"https://www.gov.uk/government/organisations/government-digital-service\">Built by the Government Digital Service</a>\n",
       "</li>\n",
       "</ul>\n",
       "<svg aria-hidden=\"true\" class=\"govuk-footer__licence-logo\" focusable=\"false\" height=\"17\" viewbox=\"0 0 483.2 195.7\" width=\"41\" xmlns=\"http://www.w3.org/2000/svg\">\n",
       "<path d=\"M421.5 142.8V.1l-50.7 32.3v161.1h112.4v-50.7zm-122.3-9.6A47.12 47.12 0 0 1 221 97.8c0-26 21.1-47.1 47.1-47.1 16.7 0 31.4 8.7 39.7 21.8l42.7-27.2A97.63 97.63 0 0 0 268.1 0c-36.5 0-68.3 20.1-85.1 49.7A98 98 0 0 0 97.8 0C43.9 0 0 43.9 0 97.8s43.9 97.8 97.8 97.8c36.5 0 68.3-20.1 85.1-49.7a97.76 97.76 0 0 0 149.6 25.4l19.4 22.2h3v-87.8h-80l24.3 27.5zM97.8 145c-26 0-47.1-21.1-47.1-47.1s21.1-47.1 47.1-47.1 47.2 21 47.2 47S123.8 145 97.8 145\" fill=\"currentColor\"></path>\n",
       "</svg>\n",
       "<span class=\"govuk-footer__licence-description\">\n",
       "          All content is available under the <a class=\"govuk-footer__link\" href=\"https://www.nationalarchives.gov.uk/doc/open-government-licence/version/3/\" rel=\"license\">Open Government Licence v3.0</a>, except where otherwise stated\n",
       "        </span>\n",
       "</div>\n",
       "<div class=\"govuk-footer__meta-item\">\n",
       "<a class=\"govuk-footer__link govuk-footer__copyright-logo\" href=\"https://www.nationalarchives.gov.uk/information-management/re-using-public-sector-information/uk-government-licensing-framework/crown-copyright/\">© Crown copyright</a>\n",
       "</div>\n",
       "</div>\n",
       "</div>\n",
       "</footer>\n",
       "<div class=\"app-error hidden\" id=\"global-app-error\"></div>\n",
       "<script src=\"/find-assets/application-9eb20e0cfd7363af9380cde630b816f0b8e869201ea425c2d7d2cbc861d581c8.js\"></script>\n",
       "<script>if (typeof window.GOVUK === 'undefined') document.body.className = document.body.className.replace('js-enabled', '');</script>\n",
       "</body>\n",
       "</html>\n",
       "</html>"
      ]
     },
     "execution_count": 23,
     "metadata": {},
     "output_type": "execute_result"
    }
   ],
   "source": [
    "soup_uk"
   ]
  },
  {
   "cell_type": "code",
   "execution_count": null,
   "id": "40696eab",
   "metadata": {},
   "outputs": [],
   "source": [
    "#main-content > div:nth-child(3) > div > ul > li:nth-child(1) > h3\n",
    "#main-content > div:nth-child(3) > div > ul > li:nth-child(6) > h3\n",
    "\n",
    "\n"
   ]
  },
  {
   "cell_type": "code",
   "execution_count": 25,
   "id": "5999cedd",
   "metadata": {},
   "outputs": [
    {
     "data": {
      "text/plain": [
       "[<h3 class=\"govuk-heading-s dgu-topics__heading\"><a class=\"govuk-link\" href=\"/search?filters%5Btopic%5D=Business+and+economy\">Business and economy</a></h3>,\n",
       " <h3 class=\"govuk-heading-s dgu-topics__heading\"><a class=\"govuk-link\" href=\"/search?filters%5Btopic%5D=Crime+and+justice\">Crime and justice</a></h3>,\n",
       " <h3 class=\"govuk-heading-s dgu-topics__heading\"><a class=\"govuk-link\" href=\"/search?filters%5Btopic%5D=Defence\">Defence</a></h3>,\n",
       " <h3 class=\"govuk-heading-s dgu-topics__heading\"><a class=\"govuk-link\" href=\"/search?filters%5Btopic%5D=Education\">Education</a></h3>,\n",
       " <h3 class=\"govuk-heading-s dgu-topics__heading\"><a class=\"govuk-link\" href=\"/search?filters%5Btopic%5D=Environment\">Environment</a></h3>,\n",
       " <h3 class=\"govuk-heading-s dgu-topics__heading\"><a class=\"govuk-link\" href=\"/search?filters%5Btopic%5D=Government\">Government</a></h3>,\n",
       " <h3 class=\"govuk-heading-s dgu-topics__heading\"><a class=\"govuk-link\" href=\"/search?filters%5Btopic%5D=Government+spending\">Government spending</a></h3>,\n",
       " <h3 class=\"govuk-heading-s dgu-topics__heading\"><a class=\"govuk-link\" href=\"/search?filters%5Btopic%5D=Health\">Health</a></h3>,\n",
       " <h3 class=\"govuk-heading-s dgu-topics__heading\"><a class=\"govuk-link\" href=\"/search?filters%5Btopic%5D=Mapping\">Mapping</a></h3>,\n",
       " <h3 class=\"govuk-heading-s dgu-topics__heading\"><a class=\"govuk-link\" href=\"/search?filters%5Btopic%5D=Society\">Society</a></h3>,\n",
       " <h3 class=\"govuk-heading-s dgu-topics__heading\"><a class=\"govuk-link\" href=\"/search?filters%5Btopic%5D=Towns+and+cities\">Towns and cities</a></h3>,\n",
       " <h3 class=\"govuk-heading-s dgu-topics__heading\"><a class=\"govuk-link\" href=\"/search?filters%5Btopic%5D=Transport\">Transport</a></h3>,\n",
       " <h3 class=\"govuk-heading-s dgu-topics__heading\"><a class=\"govuk-link\" href=\"/search?filters%5Btopic%5D=Digital+service+performance\">Digital service performance</a></h3>,\n",
       " <h3 class=\"govuk-heading-s dgu-topics__heading\"><a class=\"govuk-link\" href=\"/search?filters%5Btopic%5D=Government+reference+data\">Government reference data</a></h3>]"
      ]
     },
     "execution_count": 25,
     "metadata": {},
     "output_type": "execute_result"
    }
   ],
   "source": [
    "types = soup_uk.select('#main-content > div:nth-child(3) > div > ul > li > h3')\n",
    "types"
   ]
  },
  {
   "cell_type": "code",
   "execution_count": null,
   "id": "268814e8",
   "metadata": {},
   "outputs": [],
   "source": []
  },
  {
   "cell_type": "code",
   "execution_count": null,
   "id": "fc40a3a0",
   "metadata": {},
   "outputs": [],
   "source": []
  },
  {
   "cell_type": "code",
   "execution_count": null,
   "id": "ae896abb",
   "metadata": {},
   "outputs": [],
   "source": []
  },
  {
   "cell_type": "code",
   "execution_count": null,
   "id": "18fde482",
   "metadata": {},
   "outputs": [],
   "source": []
  }
 ],
 "metadata": {
  "kernelspec": {
   "display_name": "Python 3 (ipykernel)",
   "language": "python",
   "name": "python3"
  },
  "language_info": {
   "codemirror_mode": {
    "name": "ipython",
    "version": 3
   },
   "file_extension": ".py",
   "mimetype": "text/x-python",
   "name": "python",
   "nbconvert_exporter": "python",
   "pygments_lexer": "ipython3",
   "version": "3.11.4"
  }
 },
 "nbformat": 4,
 "nbformat_minor": 5
}
